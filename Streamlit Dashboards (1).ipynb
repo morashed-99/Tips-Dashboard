{
 "cells": [
  {
   "cell_type": "code",
   "execution_count": 1,
   "id": "97a33106-2bf9-486c-8cdd-96b1eca84ecd",
   "metadata": {},
   "outputs": [
    {
     "name": "stdout",
     "output_type": "stream",
     "text": [
      "C:\\Users\\Mohamed Koura\\multipage5\n"
     ]
    }
   ],
   "source": [
    "%mkdir multipage5\n",
    "%cd multipage5"
   ]
  },
  {
   "cell_type": "code",
   "execution_count": 3,
   "id": "cf87c5fc-1f0f-48f4-a48a-8c22ab6e25a7",
   "metadata": {},
   "outputs": [
    {
     "data": {
      "text/plain": [
       "'C:\\\\Users\\\\Mohamed Koura\\\\multipage5'"
      ]
     },
     "execution_count": 3,
     "metadata": {},
     "output_type": "execute_result"
    }
   ],
   "source": [
    "import os\n",
    "os.getcwd()"
   ]
  },
  {
   "cell_type": "code",
   "execution_count": 91,
   "id": "65168227-9138-4838-81aa-4a409da41911",
   "metadata": {},
   "outputs": [
    {
     "name": "stdout",
     "output_type": "stream",
     "text": [
      "Overwriting homepage.py\n"
     ]
    }
   ],
   "source": [
    "%%writefile homepage.py\n",
    "import streamlit as st\n",
    "import plotly.express as px \n",
    "\n",
    "st.set_page_config(\n",
    "    layout=\"wide\",\n",
    "    page_title='Tips HomePage',\n",
    "    page_icon='🪙'\n",
    ")\n",
    "\n",
    "df = px.data.tips()\n",
    "num = df.describe()\n",
    "cat = df.describe(include = 'O')\n",
    "\n",
    "\n",
    "#Side bar\n",
    "st.sidebar.success('select page above')\n",
    "st.markdown('<h1 style=\"text-align: center; color : black;\">Home Page For Dash Board</h1>', unsafe_allow_html= True)\n",
    "\n",
    "tab1, tab2= st.tabs([\"🗓️ Data\",'📈 Describtive Stats'])\n",
    "\n",
    "\n",
    "with tab1:\n",
    "    col1, col2, col3= st.columns([3,4,3])\n",
    "    with col2:\n",
    "        st.markdown('<h3 style=\"text-align: center; color : black;\">Dataset</h3>', unsafe_allow_html=True)\n",
    "        st.dataframe(df.copy(), 800, 500)\n",
    "\n",
    "\n",
    "with tab2:\n",
    "    col1, col2, col3= st.columns([6,0.5,6])\n",
    "    with col1:\n",
    "        st.subheader('Numerical Describtive Statistics')\n",
    "        st.dataframe(num.T,700, 150)\n",
    "\n",
    "    with col3:\n",
    "        st.subheader('Categorical Describtive Statistics')\n",
    "        st.dataframe(cat.T, 500, 200)"
   ]
  },
  {
   "cell_type": "code",
   "execution_count": 93,
   "id": "59b7848d-3879-4014-9075-d45e4f88b340",
   "metadata": {},
   "outputs": [
    {
     "name": "stdout",
     "output_type": "stream",
     "text": [
      "C:\\Users\\Mohamed Koura\\pages\n"
     ]
    },
    {
     "name": "stderr",
     "output_type": "stream",
     "text": [
      "A subdirectory or file pages already exists.\n"
     ]
    }
   ],
   "source": [
    "%mkdir pages\n",
    "%cd pages"
   ]
  },
  {
   "cell_type": "code",
   "execution_count": 95,
   "id": "6f010c98-0f1e-476b-a088-91d389b804f4",
   "metadata": {},
   "outputs": [
    {
     "name": "stdout",
     "output_type": "stream",
     "text": [
      "Overwriting Charts.py\n"
     ]
    }
   ],
   "source": [
    "%%writefile Charts.py\n",
    "import streamlit as st\n",
    "import plotly.express as px\n",
    "\n",
    "st.set_page_config(\n",
    "        layout = 'wide',\n",
    "        page_title = 'DashBoard',\n",
    "        page_icon= '📊'\n",
    ")\n",
    "\n",
    "tab1, tab2 = st.tabs(['📈  Numerical Charts','📊 Categorical Charts'])\n",
    "df = px.data.tips()\n",
    "\n",
    "\n",
    "with tab1:\n",
    "    st.markdown('<h3 style=\"text-align: center; color : black;\">Distribution of Numerical features</h3>', unsafe_allow_html=True)\n",
    "    col= st.selectbox('select feature to see its distribution', ['total_bill', 'tip'], key=10)\n",
    "    with st.container():\n",
    "        col1, col2, col3 = st.columns([5,1,5])\n",
    "        fig= px.histogram(df, x= col, color_discrete_sequence=px.colors.qualitative.Antique)\n",
    "        col1.plotly_chart(fig, use_container_width= True)\n",
    "\n",
    "        fig= px.box(df, x= col,color_discrete_sequence=px.colors.qualitative.Antique )\n",
    "        col3.plotly_chart(fig, use_container_width= True)\n",
    "        \n",
    "        st.write('<h3 style=\"text-align: center; color : black;\">Correlation Between Numerical features with filters</h3>', unsafe_allow_html=True)\n",
    "\n",
    "    with st.container():\n",
    "        col4, col5, col6 = st.columns([6,1,6])\n",
    "        # col4\n",
    "        # Adding a placeholder option\n",
    "        options = ['None'] + df['time'].unique().tolist()\n",
    "        time= col4.selectbox('select Meal Time', options, key=7)\n",
    "        new_df2= df[df['time']==time]\n",
    "        fig= px.scatter(new_df2, x='total_bill', y= 'tip', size= 'size',size_max=20,\n",
    "                       color= 'sex', title= f'correlation between total bill and tips on {time}',color_discrete_sequence=px.colors.qualitative.Antique)\n",
    "        col4.plotly_chart(fig, use_container_width=True)\n",
    "\n",
    "        # col6\n",
    "        size= col6.radio('select how many dishes', df['size'].unique(), key=3, horizontal=True)\n",
    "        new_df1= df[df['size']==size]\n",
    "        fig= px.line(new_df1.sort_values(by='total_bill'), x= 'total_bill', y='tip',color='sex',\n",
    "                    title= f'correlation between total bill and tips on {time}',color_discrete_sequence=px.colors.qualitative.Antique)\n",
    "        col6.plotly_chart(fig, use_container_width=True)\n",
    "\n",
    "with tab2:\n",
    "    st.markdown('<h3 style=\"text-align: center; color : black;\">Distribution of Categorical features</h3>', unsafe_allow_html=True)\n",
    "    col= st.selectbox('select feature to see the distribution',['sex', 'day', 'time', 'size'] ,key=11)\n",
    "    # dist part\n",
    "    with st.container():\n",
    "        col1, col2, col3=st.columns([5,1,5])\n",
    "        fig= px.histogram(df, x= col, color_discrete_sequence=px.colors.qualitative.Antique)\n",
    "        col1.plotly_chart(fig, use_container_width=True)\n",
    "\n",
    "        fig= px.pie(df, names= col, color_discrete_sequence=px.colors.qualitative.Antique, hole=.3).update_traces(textinfo='value')\n",
    "        col3.plotly_chart(fig,use_container_width=True)\n",
    "        st.write('<h3 style=\"text-align: center; color : black;\">Some BiVariate Analysis</h3>', unsafe_allow_html=True)\n",
    "\n",
    "    with st.container():\n",
    "        col1,col2,col3= st.columns([5,1,5])\n",
    "        #col1\n",
    "        day= col1.selectbox('Select Day', df['day'].unique(), key= 4 )\n",
    "        new_df1= df[df['day']== day]\n",
    "        fig = px.histogram(new_df1, x='total_bill',color = 'sex',\n",
    "                           title=f'totalt bill for {day}day'.title(), color_discrete_sequence=px.colors.qualitative.Antique)\n",
    "        col1.plotly_chart(fig, use_container_width=True)\n",
    "\n",
    "\n",
    "        size= col1.radio('Select How many Dishes', sorted(df['size'].unique()),3,  key=6, horizontal=True)\n",
    "        new_df1 = df[df['size'] == size]\n",
    "        fig= px.pie(new_df1, names='time',title=f'count of each meal time according to {size} dishes'.title(),\n",
    "                     color_discrete_sequence=px.colors.qualitative.Antique, hole=0.32).update_traces(textinfo='value')\n",
    "        col1.plotly_chart(fig,  use_container_width=True)\n",
    "\n",
    "\n",
    "        # col3 \n",
    "        # time= col3.selectbox('select Meal Time', df['time'].unique(), key=5)\n",
    "        # new_df2 = df[df['time'] == time]\n",
    "\n",
    "        # fig = px.scatter(new_df2, x='total_bill', y = 'tip', size = 'size', size_max=20,color = 'sex',\n",
    "        #                  title=f'correlation between total bill and tips on {time}', color_discrete_sequence=px.colors.qualitative.Antique)\n",
    "        # col3.plotly_chart(fig,use_container_width=True)\n",
    "        gender= col3.radio('Select  Gender', df['sex'].unique(), key=8, horizontal=True)\n",
    "        new_df2 = df[df['sex'] == gender]\n",
    "        fig= px.sunburst(new_df2, path=['day', 'time', 'size'], color = 'tip',\n",
    "                          title=f'counting over day, time and size over tips for only {gender}'.title(),color_continuous_scale= px.colors.sequential.Brwnyl)\n",
    "        col3.plotly_chart(fig,use_container_width=True)\n",
    "        fig = px.treemap(df,path=['day', 'time', 'size'], color = 'tip', color_continuous_scale= px.colors.sequential.Brwnyl, height=550 ,\n",
    "                         title=f'counting over day, time and size over tips for only {gender}'.title())\n",
    "        col3.plotly_chart(fig,use_container_width=True)"
   ]
  },
  {
   "cell_type": "code",
   "execution_count": 97,
   "id": "13a353f3-7edc-4dfe-975b-731a7309ef73",
   "metadata": {},
   "outputs": [
    {
     "name": "stdout",
     "output_type": "stream",
     "text": [
      "C:\\Users\\Mohamed Koura\n",
      "^C\n"
     ]
    }
   ],
   "source": [
    "%cd ..\n",
    "!streamlit run homepage.py"
   ]
  },
  {
   "cell_type": "code",
   "execution_count": null,
   "id": "6d336c7e-54ae-4a5f-916f-4134b2a7ef94",
   "metadata": {},
   "outputs": [],
   "source": []
  }
 ],
 "metadata": {
  "kernelspec": {
   "display_name": "Python 3 (ipykernel)",
   "language": "python",
   "name": "python3"
  },
  "language_info": {
   "codemirror_mode": {
    "name": "ipython",
    "version": 3
   },
   "file_extension": ".py",
   "mimetype": "text/x-python",
   "name": "python",
   "nbconvert_exporter": "python",
   "pygments_lexer": "ipython3",
   "version": "3.12.4"
  }
 },
 "nbformat": 4,
 "nbformat_minor": 5
}
